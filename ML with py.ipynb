{
 "cells": [
  {
   "cell_type": "code",
   "execution_count": 2,
   "id": "0c4cd218",
   "metadata": {},
   "outputs": [
    {
     "name": "stdout",
     "output_type": "stream",
     "text": [
      "hello world\n"
     ]
    }
   ],
   "source": [
    "print(\"hello world\")"
   ]
  },
  {
   "cell_type": "code",
   "execution_count": 3,
   "id": "3e5f6aaa",
   "metadata": {},
   "outputs": [
    {
     "name": "stdout",
     "output_type": "stream",
     "text": [
      "dhruthi\n"
     ]
    }
   ],
   "source": [
    "print(\"dhruthi\")"
   ]
  },
  {
   "cell_type": "code",
   "execution_count": 1,
   "id": "586a823d",
   "metadata": {},
   "outputs": [],
   "source": [
    "dict_1={'name':\"arun\",'hobbies':['painting','singing','cooking']}"
   ]
  },
  {
   "cell_type": "code",
   "execution_count": 2,
   "id": "60d34096",
   "metadata": {},
   "outputs": [
    {
     "data": {
      "text/plain": [
       "{'name': 'arun', 'hobbies': ['painting', 'singing', 'cooking']}"
      ]
     },
     "execution_count": 2,
     "metadata": {},
     "output_type": "execute_result"
    }
   ],
   "source": [
    "dict_1"
   ]
  },
  {
   "cell_type": "code",
   "execution_count": 8,
   "id": "a6255d8f",
   "metadata": {},
   "outputs": [],
   "source": [
    "sample_set={1,2,3,4,5,1,13.4,9.6}"
   ]
  },
  {
   "cell_type": "markdown",
   "id": "6963f4b2",
   "metadata": {},
   "source": []
  },
  {
   "cell_type": "code",
   "execution_count": 9,
   "id": "9e5d233a",
   "metadata": {},
   "outputs": [
    {
     "data": {
      "text/plain": [
       "{1, 2, 3, 4, 5, 9.6, 13.4}"
      ]
     },
     "execution_count": 9,
     "metadata": {},
     "output_type": "execute_result"
    }
   ],
   "source": [
    "sample_set"
   ]
  },
  {
   "cell_type": "code",
   "execution_count": null,
   "id": "39b76d49",
   "metadata": {},
   "outputs": [],
   "source": []
  }
 ],
 "metadata": {
  "kernelspec": {
   "display_name": "Python 3 (ipykernel)",
   "language": "python",
   "name": "python3"
  },
  "language_info": {
   "codemirror_mode": {
    "name": "ipython",
    "version": 3
   },
   "file_extension": ".py",
   "mimetype": "text/x-python",
   "name": "python",
   "nbconvert_exporter": "python",
   "pygments_lexer": "ipython3",
   "version": "3.11.5"
  }
 },
 "nbformat": 4,
 "nbformat_minor": 5
}
